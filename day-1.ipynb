{
 "cells": [
  {
   "cell_type": "markdown",
   "metadata": {},
   "source": [
    "# Warm up challenges"
   ]
  },
  {
   "cell_type": "markdown",
   "metadata": {},
   "source": [
    "## What's your name"
   ]
  },
  {
   "cell_type": "code",
   "execution_count": null,
   "metadata": {},
   "outputs": [],
   "source": [
    "def compute_name(first_name, middle_name, last_name):\n",
    "    return (f'{first_name} {middle_name} {last_name}')"
   ]
  },
  {
   "cell_type": "markdown",
   "metadata": {},
   "source": [
    "## Check divisibility"
   ]
  },
  {
   "cell_type": "code",
   "execution_count": null,
   "metadata": {},
   "outputs": [],
   "source": [
    "def check_divisibility(num, a, b):\n",
    "    if (num%a == 0) and (num%b == 0):\n",
    "        return True\n",
    "    else:\n",
    "        return False\n",
    "\n",
    "\n",
    "# another way, not using the modulo operator\n",
    "def check_divisibility_2(num, a, b):\n",
    "    if (num/b == num//b) and (num/a == num//a):\n",
    "        return True\n",
    "    else:\n",
    "        return False"
   ]
  },
  {
   "cell_type": "markdown",
   "metadata": {},
   "source": [
    "## Stupid coaching"
   ]
  },
  {
   "cell_type": "code",
   "execution_count": null,
   "metadata": {},
   "outputs": [],
   "source": [
    "def coach_answer(your_message):\n",
    "    if your_message[-1] == '?':\n",
    "        return (\"Silly question, get dressed and go to work!\")\n",
    "    elif your_message == \"I am going to work right now!\":\n",
    "        return ('')\n",
    "    else:\n",
    "        return (\"I don't care, get dressed and go to work!\")\n",
    "\n",
    "\n",
    "def coach_answer_enhanced(your_message):\n",
    "    if your_message ==  ('I am going to work right now!'.upper()):\n",
    "        return ('')\n",
    "    elif your_message.upper() == your_message:\n",
    "        return 'I can feel your motivation!' + ' ' + coach_answer(your_message)\n",
    "    else:\n",
    "        return coach_answer(your_message)"
   ]
  },
  {
   "cell_type": "markdown",
   "metadata": {},
   "source": [
    "## Colorful algorithm"
   ]
  },
  {
   "cell_type": "code",
   "execution_count": null,
   "metadata": {},
   "outputs": [],
   "source": [
    "def is_colorful(num):\n",
    "    # Change the type of the inputed number to a string,\n",
    "    # so as to be able to parse through its characters individually\n",
    "    num = str(num)\n",
    "\n",
    "    # Create a variable called length to make the rest of the code easier\n",
    "    length = (len(num))\n",
    "\n",
    "    # Append as an integer each individual character in 'num' to a list called numbers\n",
    "    numbers = []\n",
    "    for i in range(length):\n",
    "        numbers.append(int(num[i]))\n",
    "\n",
    "    # Parse through each number in the list to multiply them amongst each other\n",
    "    # To do so, create a variable called \"result\" which will be uploaded as it is being\n",
    "    # multiplied by each individual number in the list\n",
    "    result = 1\n",
    "    for j in numbers:\n",
    "        result = result * j\n",
    "\n",
    "    # Append the multiplication of two consecutive numbers to the list\n",
    "    # as we are iterating through each number in the list\n",
    "    for k in range(length-1):\n",
    "        numbers.append(numbers[k]*numbers[k+1])\n",
    "\n",
    "    # Append the final \"result\" to the numbers' list if the length of num is greater than 2\n",
    "    if len(num) > 2:\n",
    "        numbers.append(result)\n",
    "\n",
    "    # print(numbers)\n",
    "\n",
    "    # Create a new list, and append each number in numbers,\n",
    "    # IF this number is not already in the newly created list\n",
    "    is_it = []\n",
    "    for i in numbers:\n",
    "        if i not in is_it:\n",
    "            is_it.append(i)\n",
    "\n",
    "    # print(is_it)\n",
    "\n",
    "    # Compare the length of both lists to see if they are the same\n",
    "    if len(is_it) == len(numbers):\n",
    "        return True\n",
    "    else:\n",
    "        return False\n"
   ]
  },
  {
   "cell_type": "markdown",
   "metadata": {},
   "source": [
    "# Challenges "
   ]
  },
  {
   "cell_type": "markdown",
   "metadata": {},
   "source": [
    "## Hello name or world"
   ]
  },
  {
   "cell_type": "code",
   "execution_count": null,
   "metadata": {},
   "outputs": [],
   "source": [
    "def hello(string='World'):\n",
    "    string = string.lower().capitalize()\n",
    "    if string:\n",
    "        return (f'Hello, {string}!')\n",
    "    else:\n",
    "        return (f'Hello, World!')"
   ]
  },
  {
   "cell_type": "markdown",
   "metadata": {},
   "source": [
    "## Area or perimeter"
   ]
  },
  {
   "cell_type": "code",
   "execution_count": null,
   "metadata": {},
   "outputs": [],
   "source": [
    "def area_or_perimeter(input_1, input_2):\n",
    "    if input_1 == input_2:\n",
    "        return input_1*input_2\n",
    "    else:\n",
    "        return (input_1+input_2)*2"
   ]
  },
  {
   "cell_type": "markdown",
   "metadata": {},
   "source": [
    "## Is the string upcase"
   ]
  },
  {
   "cell_type": "code",
   "execution_count": null,
   "metadata": {},
   "outputs": [],
   "source": [
    "def is_it_upper(string):\n",
    "    if string.upper() == string:\n",
    "        return True\n",
    "    else:\n",
    "        return False"
   ]
  },
  {
   "cell_type": "markdown",
   "metadata": {},
   "source": [
    "## Keep hydrated"
   ]
  },
  {
   "cell_type": "code",
   "execution_count": null,
   "metadata": {},
   "outputs": [],
   "source": [
    "def water_to_drink(time_in_hours):\n",
    "    return int(time_in_hours*0.5)"
   ]
  }
 ],
 "metadata": {
  "language_info": {
   "name": "python"
  }
 },
 "nbformat": 4,
 "nbformat_minor": 2
}
