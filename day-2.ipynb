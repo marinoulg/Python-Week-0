{
 "cells": [
  {
   "cell_type": "markdown",
   "metadata": {},
   "source": [
    "# Warm-up challenges"
   ]
  },
  {
   "cell_type": "markdown",
   "metadata": {},
   "source": [
    "## Testing 1-2-3"
   ]
  },
  {
   "cell_type": "code",
   "execution_count": null,
   "metadata": {},
   "outputs": [],
   "source": [
    "def number(list_of_strings):\n",
    "\n",
    "    new_list = []\n",
    "\n",
    "    for i,j in zip(list_of_strings, range(len(list_of_strings))):\n",
    "        new_list.append(f\"{j+1}: {i}\")\n",
    "\n",
    "    return new_list"
   ]
  },
  {
   "cell_type": "markdown",
   "metadata": {},
   "source": [
    "## Running out of space"
   ]
  },
  {
   "cell_type": "code",
   "execution_count": null,
   "metadata": {},
   "outputs": [],
   "source": [
    "def spacey(array):\n",
    "    new_array = []\n",
    "    if new_array == []:\n",
    "        new_array.append(array[0])\n",
    "\n",
    "    for i in range(0,len(array)-1):\n",
    "        new_array.append(new_array[i]+array[i+1])\n",
    "\n",
    "    return new_array"
   ]
  },
  {
   "cell_type": "markdown",
   "metadata": {},
   "source": [
    "## Sum of two lowest integers"
   ]
  },
  {
   "cell_type": "code",
   "execution_count": null,
   "metadata": {},
   "outputs": [],
   "source": [
    "def sum_two_smallest_numbers(array):\n",
    "\n",
    "    # Verify the conditions\n",
    "    if len(array) < 4:\n",
    "        print(\"Error, the array should contain at least 4 positive numbers\")\n",
    "\n",
    "    two_numbers = []\n",
    "    for i in array:\n",
    "        if i <= 0:\n",
    "            print('Error, we do not accept non-positive integers')\n",
    "        if int(i) != i:\n",
    "            print(\"Error, we do not accept floats\")\n",
    "\n",
    "    array.sort()\n",
    "    two_numbers = array[:2]\n",
    "\n",
    "    result = 0\n",
    "    for i in two_numbers:\n",
    "        result = result + i\n",
    "\n",
    "    return result\n"
   ]
  },
  {
   "cell_type": "markdown",
   "metadata": {},
   "source": [
    "## Password validator"
   ]
  },
  {
   "cell_type": "code",
   "execution_count": 1,
   "metadata": {},
   "outputs": [],
   "source": [
    "def password_validator(password):\n",
    "\n",
    "    real_password = []\n",
    "    for i in password:\n",
    "        real_password.append(i)\n",
    "\n",
    "    check_password = []\n",
    "    for i in password:\n",
    "        if i.upper() == i:\n",
    "            check_password.append(i)\n",
    "        elif i.lower() == i:\n",
    "            check_password.append(i)\n",
    "        elif int(i) == i:\n",
    "            check_password.append(i)\n",
    "\n",
    "    if password.lower() == password or password.upper() == password:\n",
    "        return False\n",
    "\n",
    "    if len(check_password) > 7:\n",
    "        if len(real_password) == len(check_password):\n",
    "            return True\n",
    "        else :\n",
    "            return False\n",
    "    else:\n",
    "        return False\n"
   ]
  },
  {
   "cell_type": "code",
   "execution_count": 2,
   "metadata": {},
   "outputs": [
    {
     "data": {
      "text/plain": [
       "(True, True, True, True)"
      ]
     },
     "execution_count": 2,
     "metadata": {},
     "output_type": "execute_result"
    }
   ],
   "source": [
    "# WHY SHOULD THE FOLLONG EXAMPLES BE FALSE ? I DON'T UNDERSTAND ??\n",
    "\n",
    "# Other examples :\n",
    "\n",
    "ex_1 = '*G.aA{$zd' # --> should equal False\n",
    "ex_2 = 'dT_gNf:zP);^U)R%>@)ngX' # --> should equal False\n",
    "ex_3 = 'PIBTwkm=Q;$D:' # --> should equal False\n",
    "ex_4 = '^i+Dv{Jquo' # --> should equal False\n",
    "\n",
    "password_validator(ex_1), password_validator(ex_2), password_validator(ex_3), password_validator(ex_4)"
   ]
  },
  {
   "cell_type": "markdown",
   "metadata": {},
   "source": [
    "## Password maker"
   ]
  },
  {
   "cell_type": "code",
   "execution_count": null,
   "metadata": {},
   "outputs": [],
   "source": [
    "def password_maker(sentence):\n",
    "    new_password = []\n",
    "    for i in sentence.split():\n",
    "        if i[0] == 'i' or i[0] == 'I':\n",
    "            new_password.append(1)\n",
    "        elif i[0] == 'o' or i[0] == 'O':\n",
    "            new_password.append(0)\n",
    "        elif i[0] == 's' or i[0] == 'S':\n",
    "            new_password.append(5)\n",
    "        else:\n",
    "            new_password.append(i[0])\n",
    "\n",
    "    mapped = map(str, new_password)\n",
    "    new_string = ''.join(mapped)\n",
    "\n",
    "    return new_string\n"
   ]
  },
  {
   "cell_type": "markdown",
   "metadata": {},
   "source": [
    "## Strings even character"
   ]
  },
  {
   "cell_type": "code",
   "execution_count": null,
   "metadata": {},
   "outputs": [],
   "source": [
    "def even_chars(string):\n",
    "    length = len(string)\n",
    "\n",
    "    if length in range(2,101):\n",
    "        new_list = []\n",
    "\n",
    "        for i,j in enumerate(string):\n",
    "            if (i+1)%2 ==0:\n",
    "                new_list.append(j)\n",
    "        return (new_list)\n",
    "    else:\n",
    "        return 'invalid string'"
   ]
  },
  {
   "cell_type": "markdown",
   "metadata": {},
   "source": [
    "## Manhattan distance"
   ]
  },
  {
   "cell_type": "code",
   "execution_count": null,
   "metadata": {},
   "outputs": [],
   "source": [
    "def manhattan_distance(x_coord, y_coord):\n",
    "    return abs(x_coord[0] - y_coord[0])+abs(x_coord[1]-y_coord[1])"
   ]
  },
  {
   "cell_type": "markdown",
   "metadata": {},
   "source": [
    "## Mexican wave"
   ]
  },
  {
   "cell_type": "code",
   "execution_count": null,
   "metadata": {},
   "outputs": [],
   "source": [
    "import string\n",
    "\n",
    "def wave(people):\n",
    "    neww = []\n",
    "    for i in people:\n",
    "        neww.append(i)\n",
    "    # print(neww)\n",
    "\n",
    "    length = len(neww)\n",
    "    # print(f'lenght is {length}')\n",
    "\n",
    "    alphabet = []\n",
    "    for i in string.ascii_letters:\n",
    "        alphabet.append(i)\n",
    "\n",
    "    result_list = []\n",
    "\n",
    "    if people.replace(' ','') == people: # if there are not whitespaces in the string people\n",
    "        for i in range(length):\n",
    "            # print(people[i])\n",
    "            if people[i].upper() in alphabet:\n",
    "                result_list.append(people[:i] + people[i].upper() + people[i+1:])\n",
    "\n",
    "        return result_list\n",
    "\n",
    "    else:\n",
    "        result_list.append(people.capitalize())\n",
    "        for i in range(1,length):\n",
    "            if people[i].upper() in alphabet:\n",
    "                result_list.append(people[:i] + people[i].upper() + people[i+1:])\n",
    "\n",
    "\n",
    "    if people[0][0] == ' ':\n",
    "        result_list = result_list[1:]\n",
    "\n",
    "    return result_list"
   ]
  },
  {
   "cell_type": "markdown",
   "metadata": {},
   "source": [
    "## Multiplication table"
   ]
  },
  {
   "cell_type": "code",
   "execution_count": null,
   "metadata": {},
   "outputs": [],
   "source": [
    "def multiplication_table(size):\n",
    "    return_value = []\n",
    "\n",
    "    for i in range(size):\n",
    "        i  = i + 1\n",
    "        return_value.append([i])\n",
    "\n",
    "    for i in range(size):\n",
    "        for j in range(2, size+1):\n",
    "            return_value[i].append((i+1)*j)\n",
    "\n",
    "    return return_value\n"
   ]
  },
  {
   "cell_type": "markdown",
   "metadata": {},
   "source": [
    "# Challenges"
   ]
  },
  {
   "cell_type": "markdown",
   "metadata": {},
   "source": [
    "## Calculator"
   ]
  },
  {
   "cell_type": "code",
   "execution_count": null,
   "metadata": {},
   "outputs": [],
   "source": [
    "def simple_calculator(list_of_strings):\n",
    "    if len(list_of_strings) == 3:\n",
    "        try:\n",
    "            first_operand = float(list_of_strings[0])\n",
    "            operator = list_of_strings[1]\n",
    "            second_operand = float(list_of_strings[2])\n",
    "\n",
    "            if operator not in ['+', '-', '*', '/', '%']:\n",
    "                return 'Please enter a valid operator [ +, -, /, *, % ]'\n",
    "\n",
    "            else:\n",
    "                if operator == '+':\n",
    "                    result = first_operand + second_operand\n",
    "                elif operator == '-':\n",
    "                    result = first_operand - second_operand\n",
    "                elif operator == '*':\n",
    "                    result = first_operand * second_operand\n",
    "                elif operator == '/':\n",
    "                    result = first_operand / second_operand\n",
    "                elif operator == '%':\n",
    "                    result = first_operand % second_operand\n",
    "\n",
    "                if str(result)[-2:] == '.0':\n",
    "                    return int(result)\n",
    "                else:\n",
    "                    return float(result)\n",
    "\n",
    "        except ValueError: \"could not convert string to float:\"\n",
    "        return 'Please enter valid format: [Operand, Operator, Operand]'\n",
    "\n",
    "    else:\n",
    "        pass\n",
    "\n",
    "    return 'Please enter valid format: [Operand, Operator, Operand]'\n"
   ]
  },
  {
   "cell_type": "markdown",
   "metadata": {},
   "source": [
    "## Fizz Buzz"
   ]
  },
  {
   "cell_type": "code",
   "execution_count": null,
   "metadata": {},
   "outputs": [],
   "source": [
    "def fizz_buzz(number):\n",
    "    new_list = []\n",
    "\n",
    "    for i in range(1, number+1):\n",
    "        if (i%3!=0) and (i%5!=0):\n",
    "            new_list.append(i)\n",
    "        elif (i%3==0) and (i%5==0):\n",
    "            new_list.append('FizzBuzz')\n",
    "        elif i%3 == 0 and (i%5!=0):\n",
    "            new_list.append('Fizz')\n",
    "        elif i%5 == 0 and (i%3!=0):\n",
    "            new_list.append('Buzz')\n",
    "        else:\n",
    "            new_list.append(i)\n",
    "\n",
    "    return new_list\n"
   ]
  },
  {
   "cell_type": "markdown",
   "metadata": {},
   "source": [
    "## Shuffle"
   ]
  },
  {
   "cell_type": "code",
   "execution_count": null,
   "metadata": {},
   "outputs": [],
   "source": [
    "import random\n",
    "\n",
    "def manual_shuffle(list_argument):\n",
    "    new_list = []\n",
    "    original_list = list_argument.copy()\n",
    "\n",
    "    #print(list_argument)\n",
    "    for i in original_list:\n",
    "        while original_list != []:\n",
    "            a = random.choice(original_list)\n",
    "            new_list.append(a)\n",
    "            original_list.remove(a)\n",
    "            #print(original_list)\n",
    "\n",
    "    #print('Return coming soon')\n",
    "    return new_list\n"
   ]
  }
 ],
 "metadata": {
  "kernelspec": {
   "display_name": "lewagon",
   "language": "python",
   "name": "python3"
  },
  "language_info": {
   "codemirror_mode": {
    "name": "ipython",
    "version": 3
   },
   "file_extension": ".py",
   "mimetype": "text/x-python",
   "name": "python",
   "nbconvert_exporter": "python",
   "pygments_lexer": "ipython3",
   "version": "3.10.6"
  }
 },
 "nbformat": 4,
 "nbformat_minor": 2
}
