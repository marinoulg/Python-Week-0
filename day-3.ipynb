{
 "cells": [
  {
   "cell_type": "markdown",
   "metadata": {},
   "source": [
    "# Warm up challenges"
   ]
  },
  {
   "cell_type": "markdown",
   "metadata": {},
   "source": [
    "## Training on counting duplicates"
   ]
  },
  {
   "cell_type": "code",
   "execution_count": null,
   "metadata": {},
   "outputs": [],
   "source": [
    "def duplicate_count(my_string):\n",
    "    my_dict = {}\n",
    "\n",
    "    for i in my_string:\n",
    "        i = i.lower()\n",
    "        if i in my_dict.keys():\n",
    "            my_dict[i] = my_dict[i]+1\n",
    "        else:\n",
    "            my_dict[i] = 1\n",
    "\n",
    "    # print(my_dict)\n",
    "\n",
    "    total_duplicates = []\n",
    "    for i in my_dict.values():\n",
    "        if i != 1:\n",
    "            total_duplicates.append(i)\n",
    "\n",
    "    return len(total_duplicates)"
   ]
  },
  {
   "cell_type": "markdown",
   "metadata": {},
   "source": [
    "## Duplicate encoder"
   ]
  },
  {
   "cell_type": "code",
   "execution_count": null,
   "metadata": {},
   "outputs": [],
   "source": [
    "def duplicate_encoder(sequence):\n",
    "    sequence = sequence.lower()\n",
    "\n",
    "    my_dict = {}\n",
    "    for i in sequence:\n",
    "        if i not in my_dict.keys():\n",
    "            my_dict[i] = 1\n",
    "        else:\n",
    "            my_dict[i] = my_dict[i]+1\n",
    "\n",
    "    # print(my_dict)\n",
    "\n",
    "    new_list = []\n",
    "    for i in sequence:\n",
    "        if my_dict[i] != 1:\n",
    "            new_list.append(')')\n",
    "        else:\n",
    "            new_list.append('(')\n",
    "\n",
    "    mapped = map(str, new_list)\n",
    "    new_string = ''.join(mapped)\n",
    "    return new_string\n"
   ]
  },
  {
   "cell_type": "markdown",
   "metadata": {},
   "source": [
    "## Find the odd one out"
   ]
  },
  {
   "cell_type": "code",
   "execution_count": null,
   "metadata": {},
   "outputs": [],
   "source": [
    "def the_odd_one(list_of_numbers):\n",
    "\n",
    "    my_dict = {}\n",
    "\n",
    "    for i in list_of_numbers:\n",
    "\n",
    "        if len(list_of_numbers) == 1:\n",
    "            return i\n",
    "\n",
    "        else:\n",
    "\n",
    "            if i not in my_dict.keys():\n",
    "                my_dict[i] = 1\n",
    "            else:\n",
    "                my_dict[i] = my_dict[i]+1\n",
    "    # print(my_dict)\n",
    "\n",
    "    values = my_dict.values()\n",
    "    for i,j in my_dict.items():\n",
    "        if j%2 !=0:\n",
    "            return i\n"
   ]
  },
  {
   "cell_type": "markdown",
   "metadata": {},
   "source": [
    "## Arrh grabscrab"
   ]
  },
  {
   "cell_type": "code",
   "execution_count": null,
   "metadata": {},
   "outputs": [],
   "source": [
    "def grabscrab(string, options):\n",
    "    word_by_letter = sorted(string) # Creates a list of letter by letter of the word string\n",
    "    final_result = []\n",
    "\n",
    "    print(word_by_letter)\n",
    "\n",
    "    # Compare the sorted input string with each word in options\n",
    "    for option in options:\n",
    "        # Sort each word in options to check if it matches the sorted input string\n",
    "        if sorted(option) == word_by_letter and option not in final_result:\n",
    "            final_result.append(option)\n",
    "\n",
    "    return final_result"
   ]
  },
  {
   "cell_type": "markdown",
   "metadata": {},
   "source": [
    "# Challenges"
   ]
  },
  {
   "cell_type": "markdown",
   "metadata": {},
   "source": [
    "## Simple burger"
   ]
  },
  {
   "cell_type": "code",
   "execution_count": null,
   "metadata": {},
   "outputs": [],
   "source": [
    "MACDONALDS = {\n",
    "    'Hamburger': 250,\n",
    "    'Cheeseburger':300,\n",
    "    'Big Mac': 540,\n",
    "    'McChicken':350,\n",
    "    'French Fries':230,\n",
    "    'Salad':15,\n",
    "    'Coca Cola':150,\n",
    "    'Sprite':150\n",
    "}\n",
    "\n",
    "def poor_calories_counter(arg_1, arg_2, arg_3):\n",
    "    # List of arguments\n",
    "    args = [arg_1, arg_2, arg_3]\n",
    "\n",
    "    new_args = []\n",
    "    for arg in args:\n",
    "        new_args.append(arg.lower())\n",
    "\n",
    "    count_calories = []\n",
    "\n",
    "    # Iterate through each argument and check against the MACDONALDS dictionary\n",
    "    for index, arg in enumerate(args):\n",
    "        if (arg in MACDONALDS):\n",
    "            # print(arg.replace(' ', ''))\n",
    "            # print(type(arg.replace(' ', '')))\n",
    "            count_calories.append(MACDONALDS[arg])\n",
    "        elif arg.capitalize().replace(' ', '') in MACDONALDS:\n",
    "            count_calories.append(MACDONALDS[arg.capitalize().replace(' ', '')])\n",
    "        else:\n",
    "            return f'{arg} not found'\n",
    "\n",
    "    return sum(count_calories)"
   ]
  },
  {
   "cell_type": "markdown",
   "metadata": {},
   "source": [
    "## Advanced burger"
   ]
  },
  {
   "cell_type": "code",
   "execution_count": null,
   "metadata": {},
   "outputs": [],
   "source": [
    "MENUS = {\n",
    "    'Happy Meal': ['Cheeseburger',\n",
    "                   'French Fries',\n",
    "                   'Coca Cola'],\n",
    "    'Best Of Big Mac': ['Big Mac',\n",
    "                        'French Fries',\n",
    "                        'Coca Cola'],\n",
    "    'Best of McChicken': ['McChicken',\n",
    "                          'Salad',\n",
    "                          'Sprite']\n",
    "}\n",
    "\n",
    "def advanced_calories_counter(my_list_of_meals):\n",
    "    total_count = []\n",
    "    for i in my_list_of_meals:\n",
    "        if i in MACDONALDS:\n",
    "            total_count.append(MACDONALDS[i])\n",
    "            print(i)\n",
    "            print(total_count)\n",
    "\n",
    "        elif i.capitalize().replace(' ', '') in MACDONALDS:\n",
    "            total_count.append(MACDONALDS[i.capitalize().replace(' ', '')])\n",
    "            print(i.capitalize())\n",
    "            print(total_count)\n",
    "\n",
    "        elif i in MENUS:\n",
    "            for meal in MENUS[i]:\n",
    "               if meal in MACDONALDS:\n",
    "                total_count.append(MACDONALDS[meal])\n",
    "            print(meal)\n",
    "            print(total_count)\n",
    "\n",
    "        else:\n",
    "            return f'{i} not found'\n",
    "    print(total_count)\n",
    "    return sum(total_count)\n"
   ]
  },
  {
   "cell_type": "markdown",
   "metadata": {},
   "source": [
    "## Roman numerals"
   ]
  },
  {
   "cell_type": "code",
   "execution_count": null,
   "metadata": {},
   "outputs": [],
   "source": [
    "roman_dict = {\n",
    "    'I': 1,\n",
    "    'IV':4,\n",
    "    'V':5,\n",
    "    'IX':9,\n",
    "    'X':10,\n",
    "    'XL':40,\n",
    "    'L':50,\n",
    "    'XC':90,\n",
    "    'C':100,\n",
    "    'CD':400,\n",
    "    'CM':900,\n",
    "    'M':1000\n",
    "}\n",
    "\n",
    "\n",
    "def roman_to_int(string):\n",
    "    sum_total = []\n",
    "\n",
    "    if string[-2:] == 'IV':\n",
    "        sum_total.append(roman_dict['IV'])\n",
    "\n",
    "    if 'IX' in string:\n",
    "        sum_total.append(roman_dict['IX'])\n",
    "\n",
    "    if 'XL' in string:\n",
    "        sum_total.append(roman_dict['XL'])\n",
    "\n",
    "    if 'XC' in string:\n",
    "        sum_total.append(roman_dict['XC'])\n",
    "\n",
    "    if 'CD' in string:\n",
    "        sum_total.append(roman_dict['CD'])\n",
    "\n",
    "    if 'CM' in string:\n",
    "        sum_total.append(roman_dict['CM'])\n",
    "\n",
    "\n",
    "\n",
    "    for i in range(len(string)):\n",
    "        # Deal with units 'I'\n",
    "        if string[i] == 'I' and ('IV' not in string and 'IX' not in string):\n",
    "            sum_total.append(roman_dict['I'])\n",
    "\n",
    "        # Deal with 'V'\n",
    "        if string[i] == 'V' and string[-2:] != 'IV':\n",
    "                sum_total.append(roman_dict['V'])\n",
    "\n",
    "        # Deal with 'X' and 'L' and exceptions\n",
    "        if string[i] == 'X' and (string[i-1:i+1] != 'IX' and string[i:i+2] != 'XL' and string[i:i+2] !='XC'):\n",
    "            sum_total.append(roman_dict['X'])\n",
    "        if string[i] == 'L' and ('XL' not in string):\n",
    "            sum_total.append(roman_dict['L'])\n",
    "\n",
    "        # Deal with 'C' and exceptions\n",
    "        if string[i] == 'C' and ('CD' not in string and string[i:i+2] != 'CM'):\n",
    "                sum_total.append(roman_dict['C'])\n",
    "\n",
    "        # Deal with 'M'\n",
    "        if string[i] == 'M' and (string[i-1:i+1] != 'CM') :\n",
    "            sum_total.append(roman_dict['M'])\n",
    "\n",
    "\n",
    "    print(sum_total)\n",
    "\n",
    "    return sum(sum_total)\n"
   ]
  }
 ],
 "metadata": {
  "language_info": {
   "name": "python"
  }
 },
 "nbformat": 4,
 "nbformat_minor": 2
}
