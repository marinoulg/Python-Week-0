{
 "cells": [
  {
   "cell_type": "markdown",
   "metadata": {},
   "source": [
    "# Warm up challenges"
   ]
  },
  {
   "cell_type": "markdown",
   "metadata": {},
   "source": [
    "## Classy classes"
   ]
  },
  {
   "cell_type": "code",
   "execution_count": null,
   "metadata": {},
   "outputs": [],
   "source": [
    "class Person:\n",
    "\n",
    "    def __init__(self, name, age, fav_color): # __init__(self) is the constructor of a class\n",
    "        self.name = name\n",
    "        self.age = age\n",
    "        # self.fav_color = fav_color\n",
    "        self.info = f\"{self.name}s age is {self.age}\" # attribute of class Person\n",
    "\n",
    "\n",
    "    # def get_info(self): # method of class Person\n",
    "    #     return f\"{self.name}s favorite color is {self.fav_color}\"\n"
   ]
  },
  {
   "cell_type": "markdown",
   "metadata": {},
   "source": [
    "## Regular ball, super ball"
   ]
  },
  {
   "cell_type": "code",
   "execution_count": null,
   "metadata": {},
   "outputs": [],
   "source": [
    "class Ball:\n",
    "\n",
    "    def __init__(self, ball_type='regular'):\n",
    "        self.ball_type = ball_type\n"
   ]
  },
  {
   "cell_type": "markdown",
   "metadata": {},
   "source": [
    "## Object oriented piracy"
   ]
  },
  {
   "cell_type": "code",
   "execution_count": null,
   "metadata": {},
   "outputs": [],
   "source": [
    "class Ship:\n",
    "\n",
    "    def __init__(self, draft, crew):\n",
    "        self.draft = draft     # total ship weight\n",
    "        self.crew = crew       # number of humans on the ship\n",
    "\n",
    "    def is_worth_it(self):\n",
    "        total_crew = self.crew * 1.5\n",
    "        if self.draft - total_crew > 20:\n",
    "            return True\n",
    "        else:\n",
    "            return False"
   ]
  },
  {
   "cell_type": "markdown",
   "metadata": {},
   "source": [
    "## Sleigh authentication"
   ]
  },
  {
   "cell_type": "code",
   "execution_count": null,
   "metadata": {},
   "outputs": [],
   "source": [
    "class Sleigh:\n",
    "\n",
    "    # def __init__(self) -> None:\n",
    "    #     pass\n",
    "\n",
    "    def authenticate(self, name, password):\n",
    "        self.name = name\n",
    "        self.password = password\n",
    "\n",
    "        if name == 'Santa Claus' and password == 'Ho Ho Ho!':\n",
    "            return True\n",
    "        else:\n",
    "            return False\n"
   ]
  },
  {
   "cell_type": "markdown",
   "metadata": {},
   "source": [
    "## User class for banking system"
   ]
  },
  {
   "cell_type": "code",
   "execution_count": null,
   "metadata": {},
   "outputs": [],
   "source": [
    "# To correct // Nils"
   ]
  },
  {
   "cell_type": "code",
   "execution_count": null,
   "metadata": {},
   "outputs": [],
   "source": [
    "class User(object):\n",
    "\n",
    "    def __init__(self, name, balance, checking_account):\n",
    "        self.name = name\n",
    "        self.balance = balance\n",
    "        self.checking_account = checking_account # stored as a boolean\n",
    "\n",
    "    def withdraw(self, money):\n",
    "        self.money = money\n",
    "\n",
    "        result = (self.balance - money)\n",
    "        self.balance = result\n",
    "\n",
    "        if result >= 0:\n",
    "            return f'{self.name} has {result}.'\n",
    "        else:\n",
    "            raise ValueError(\"There isn't enough money to withdraw\")\n",
    "\n",
    "    def check(self, Other_person, money):\n",
    "        self.money = money\n",
    "        money_self = self.balance + money # received\n",
    "        money_he_pays_his_debts = Other_person.balance - money # paid\n",
    "\n",
    "        self.balance = money_self\n",
    "        Other_person.balance = money_he_pays_his_debts\n",
    "\n",
    "        if money_he_pays_his_debts < 0:\n",
    "            raise ValueError(\"other user doesn't have enough money\")\n",
    "\n",
    "        if Other_person.checking_account == False:\n",
    "            raise ValueError(\"checking_account isn't true for other user\")\n",
    "\n",
    "        else:\n",
    "            return f'{self.name} has {money_self} and {Other_person.name} has {money_he_pays_his_debts}.'\n",
    "\n",
    "    def add_cash(self, money_to_add):\n",
    "        new_total = self.balance + money_to_add\n",
    "\n",
    "        self.balance = new_total\n",
    "\n",
    "        return f\"{self.name} has {new_total}.\"\n"
   ]
  },
  {
   "cell_type": "markdown",
   "metadata": {},
   "source": [
    "## Potion 101"
   ]
  },
  {
   "cell_type": "code",
   "execution_count": null,
   "metadata": {},
   "outputs": [],
   "source": [
    "# To correct // Nils"
   ]
  },
  {
   "cell_type": "code",
   "execution_count": null,
   "metadata": {},
   "outputs": [],
   "source": [
    "# Using math.ceil()\n",
    "\n",
    "import math\n",
    "\n",
    "class Potion:\n",
    "\n",
    "    def __init__(self, color, volume):\n",
    "        self.color = color\n",
    "        self.volume = volume\n",
    "\n",
    "    def mix(self, Other):\n",
    "        total_volume = self.volume + Other.volume\n",
    "\n",
    "        percent_p1 = self.volume / total_volume\n",
    "        percent_p2 = Other.volume / total_volume\n",
    "\n",
    "        average_R = ((self.color)[0]*percent_p1 + (Other.color)[0]*percent_p2)\n",
    "        average_G = ((self.color)[1]*percent_p1 + (Other.color)[1]*percent_p2)\n",
    "        average_B = ((self.color)[2]*percent_p1 + (Other.color)[2]*percent_p2)\n",
    "\n",
    "        new_potion = Potion((math.ceil(average_R), math.ceil(average_G), math.ceil(average_B)), total_volume)\n",
    "        return new_potion\n"
   ]
  },
  {
   "cell_type": "markdown",
   "metadata": {},
   "source": [
    "# Challenges"
   ]
  },
  {
   "cell_type": "markdown",
   "metadata": {},
   "source": [
    "## Orange Tree"
   ]
  },
  {
   "cell_type": "code",
   "execution_count": null,
   "metadata": {},
   "outputs": [],
   "source": [
    "import random\n",
    "\n",
    "class OrangeTree:\n",
    "    def __init__(self, age=0, height=0, fruits=0, dead=False) -> None:\n",
    "        self.age = int(age)\n",
    "        self.height = int(height)\n",
    "        self.fruits = int(fruits)\n",
    "        self.dead = dead # Boolean\n",
    "\n",
    "    def one_year_passes(self):\n",
    "        self.age = self.age + 1\n",
    "\n",
    "        if self.age < 11:\n",
    "            self.height = self.height + 1\n",
    "\n",
    "        if self.age < 50:\n",
    "            self.dead = False\n",
    "        elif self.age > 100:\n",
    "            self.dead = True\n",
    "        elif self.age in range(50,100):\n",
    "            prob_of_dying = 1/(100 - self.age)\n",
    "            random_prob = random.random()\n",
    "            # print(prob_of_dying, random_prob)\n",
    "            if prob_of_dying >= random_prob:\n",
    "                self.dead = True\n",
    "            else:\n",
    "                self.dead = False\n",
    "\n",
    "        if self.dead == False:\n",
    "            if self.age > 5 and self.age < 10:\n",
    "                self.fruits = 100\n",
    "            elif self.age >= 10 and self.age < 15:\n",
    "                self.fruits = 200\n",
    "            elif self.age > 14:\n",
    "                self.fruits = 0\n",
    "\n",
    "\n",
    "    def pick_a_fruit(self):\n",
    "        if self.fruits > 0:\n",
    "            self.fruits = self.fruits - 1\n"
   ]
  },
  {
   "cell_type": "markdown",
   "metadata": {},
   "source": [
    "## Self"
   ]
  },
  {
   "cell_type": "code",
   "execution_count": null,
   "metadata": {},
   "outputs": [],
   "source": [
    "# Corrected code\n",
    "\n",
    "class Cat:\n",
    "    def __init__(self, age=1, color='brown', weight=5):\n",
    "        self.age = age\n",
    "        self.color = color\n",
    "        self.weight = weight\n",
    "\n",
    "    def age_10_years(self):\n",
    "        self.age = 10\n",
    "        # \"My 10 year old cat now weighs 20 pounds and is grey \"\n",
    "        return self\n",
    "\n",
    "    def gain_weight(self):\n",
    "        self.weight = 20\n",
    "        return self\n",
    "\n",
    "    def turn_grey(self):\n",
    "        self.color = 'grey'\n",
    "        return self"
   ]
  },
  {
   "cell_type": "markdown",
   "metadata": {},
   "source": [
    "## Richest student"
   ]
  },
  {
   "cell_type": "code",
   "execution_count": null,
   "metadata": {},
   "outputs": [],
   "source": [
    "# To correct // Nils"
   ]
  },
  {
   "cell_type": "code",
   "execution_count": null,
   "metadata": {},
   "outputs": [],
   "source": [
    "class Student:\n",
    "    def __init__(self, name, fives, tens, twenties) -> None:\n",
    "        self.name = name\n",
    "        self.fives = fives\n",
    "        self.tens = tens\n",
    "        self.twenties = twenties\n",
    "\n",
    "    def wealth(self):\n",
    "        return 5*self.fives + 10*self.tens + 20*self.twenties\n",
    "\n",
    "    def compare(self, Other):\n",
    "        if self.wealth() >  Other.wealth() :\n",
    "            return self.name\n",
    "        else:\n",
    "            return Other.name\n",
    "\n",
    "    def avanced_compare(self, list_of_students):\n",
    "\n",
    "        # Problem: we deal NOT with variables but with strings (in the list of students)\n",
    "\n",
    "        # for name_str in list_of_students:\n",
    "        #     name_str = self.name\n",
    "        #     print(name_str)\n",
    "\n",
    "\n",
    "        wealth_dict = {}\n",
    "        for name in list_of_students:\n",
    "            wealth_dict[name.name] = name.wealth()\n",
    "\n",
    "        print(wealth_dict)\n",
    "\n",
    "        values = list(wealth_dict.values())\n",
    "        values.sort(reverse=True)\n",
    "        print(values)\n",
    "\n",
    "        new_list = []\n",
    "\n",
    "        for i in range(len(values)):\n",
    "            for key, value in wealth_dict.items():\n",
    "                if values[i] == value:\n",
    "                    new_list.append(key)\n",
    "\n",
    "\n",
    "        return (new_list)\n"
   ]
  }
 ],
 "metadata": {
  "language_info": {
   "name": "python"
  }
 },
 "nbformat": 4,
 "nbformat_minor": 2
}
